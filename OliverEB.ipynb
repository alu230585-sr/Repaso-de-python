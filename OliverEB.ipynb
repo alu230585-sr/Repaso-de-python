{
  "nbformat": 4,
  "nbformat_minor": 0,
  "metadata": {
    "colab": {
      "provenance": [],
      "authorship_tag": "ABX9TyO7xbgDvTaRJVAKROKQv/oa",
      "include_colab_link": true
    },
    "kernelspec": {
      "name": "python3",
      "display_name": "Python 3"
    },
    "language_info": {
      "name": "python"
    }
  },
  "cells": [
    {
      "cell_type": "markdown",
      "metadata": {
        "id": "view-in-github",
        "colab_type": "text"
      },
      "source": [
        "<a href=\"https://colab.research.google.com/github/alu230585-sr/Repaso-de-python/blob/main/OliverEB.ipynb\" target=\"_parent\"><img src=\"https://colab.research.google.com/assets/colab-badge.svg\" alt=\"Open In Colab\"/></a>"
      ]
    },
    {
      "cell_type": "code",
      "execution_count": null,
      "metadata": {
        "id": "jwhqPWfo-5cA"
      },
      "outputs": [],
      "source": []
    },
    {
      "cell_type": "markdown",
      "source": [
        "realizar un programa que permita capturar tu nombre y lo imprima seguido de una bienvenida"
      ],
      "metadata": {
        "id": "e_Ovd_uM_OG3"
      }
    },
    {
      "cell_type": "code",
      "source": [
        "nombre = input(\"ingresa tu nombre: \")\n",
        "print(\"bienvenido\", nombre)\n"
      ],
      "metadata": {
        "colab": {
          "base_uri": "https://localhost:8080/"
        },
        "id": "jCudU9ab_fEQ",
        "outputId": "c1f04fdd-eea8-4322-b488-35ec9b6f4ff3"
      },
      "execution_count": 2,
      "outputs": [
        {
          "output_type": "stream",
          "name": "stdout",
          "text": [
            "ingresa tu nombre: oliver\n",
            "bienvenido oliver\n"
          ]
        }
      ]
    },
    {
      "cell_type": "markdown",
      "source": [
        "realizar un programa que permita capturar 2 numeros enteros e imprima la suma, la resta, la multiplicacion y la division entre ellos."
      ],
      "metadata": {
        "id": "-aZ4M2HaCpKs"
      }
    },
    {
      "cell_type": "code",
      "source": [
        "num1=int(input(\"captura un numero\"))\n",
        "num2=int(input(\"captura un segundo numero\"))\n",
        "s=num1+num2\n",
        "print(\"la suma es\",s)\n",
        "r=num1-num2\n",
        "print(\"la resta es\",r)\n",
        "m=num1*num2\n",
        "print(\"la multiplicacion es\",m)\n",
        "d=num1/num2\n",
        "print(\"la division es\",d)\n"
      ],
      "metadata": {
        "colab": {
          "base_uri": "https://localhost:8080/"
        },
        "id": "6OcrpISADAn8",
        "outputId": "1db917d6-a598-4234-fdf7-e5a9b5554cfe"
      },
      "execution_count": 3,
      "outputs": [
        {
          "output_type": "stream",
          "name": "stdout",
          "text": [
            "captura un numero1\n",
            "captura un numero5\n",
            "la suma es 6\n",
            "la resta es -4\n",
            "la multiplicacion es 5\n",
            "la division es 0.2\n"
          ]
        }
      ]
    }
  ]
}