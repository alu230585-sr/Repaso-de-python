{
  "nbformat": 4,
  "nbformat_minor": 0,
  "metadata": {
    "colab": {
      "provenance": [],
      "authorship_tag": "ABX9TyPkgfLe2gULMgEfteG4/oYS",
      "include_colab_link": true
    },
    "kernelspec": {
      "name": "python3",
      "display_name": "Python 3"
    },
    "language_info": {
      "name": "python"
    }
  },
  "cells": [
    {
      "cell_type": "markdown",
      "metadata": {
        "id": "view-in-github",
        "colab_type": "text"
      },
      "source": [
        "<a href=\"https://colab.research.google.com/github/alu230585-sr/Repaso-de-python/blob/main/3codigos.ipynb\" target=\"_parent\"><img src=\"https://colab.research.google.com/assets/colab-badge.svg\" alt=\"Open In Colab\"/></a>"
      ]
    },
    {
      "cell_type": "markdown",
      "source": [
        "1.- Realizar un programa en python que te permita capturar 3 números enteros e imprima cual de los 3 es el mayor\n"
      ],
      "metadata": {
        "id": "k-0zIAVz_QiC"
      }
    },
    {
      "cell_type": "code",
      "execution_count": 1,
      "metadata": {
        "colab": {
          "base_uri": "https://localhost:8080/"
        },
        "id": "WiYA3RdE_MBn",
        "outputId": "a99f0d6a-799d-4381-cd39-3f3ff18077f0"
      },
      "outputs": [
        {
          "output_type": "stream",
          "name": "stdout",
          "text": [
            "ingresa el primer numero: 1\n",
            "ingresa el segundo numero: 5\n",
            "ingresa el tercer numero: 3\n",
            "elnumero mayor es: 5\n"
          ]
        }
      ],
      "source": [
        "n1 = int(input(\"ingresa el primer numero: \"))\n",
        "n2 = int(input(\"ingresa el segundo numero: \"))\n",
        "n3 = int(input(\"ingresa el tercer numero: \"))\n",
        "\n",
        "mayor = max(n1, n2, n3)\n",
        "print(\"elnumero mayor es:\", mayor)"
      ]
    },
    {
      "cell_type": "markdown",
      "source": [
        "2.- Realizar un programa en python mediante el cual calcules el total de caracteres que tiene un nombre capturado desde el teclado.\n"
      ],
      "metadata": {
        "id": "gjZb_Gsc_c_6"
      }
    },
    {
      "cell_type": "code",
      "source": [
        "nombre = input(\"ingresa tu nombre: \")\n",
        "print(\"el nombre tiene\", len(nombre), \"caracteres\")"
      ],
      "metadata": {
        "colab": {
          "base_uri": "https://localhost:8080/"
        },
        "id": "ikGiqK5U_l15",
        "outputId": "fe72cabe-a38b-4e69-e6e1-e05b273dcbeb"
      },
      "execution_count": 2,
      "outputs": [
        {
          "output_type": "stream",
          "name": "stdout",
          "text": [
            "ingresa tu nombre: oliver\n",
            "el nombre tiene 6 caracteres\n"
          ]
        }
      ]
    },
    {
      "cell_type": "markdown",
      "source": [
        "3.- Realizar un programa en python que permita imprimir los 7 días de la semana."
      ],
      "metadata": {
        "id": "ZewTr5lf_mmJ"
      }
    },
    {
      "cell_type": "code",
      "source": [
        "dias = [\"lunes\", \"martes\", \"miercoles\", \"jueves\", \"viernes\", \"sabado\", \"domingo\"]\n",
        "\n",
        "for dia in dias:\n",
        "    print(dia)"
      ],
      "metadata": {
        "colab": {
          "base_uri": "https://localhost:8080/"
        },
        "id": "48Ak8Uru_uuV",
        "outputId": "abe574b2-bb51-4d9e-8c7c-9ce253ff1377"
      },
      "execution_count": 9,
      "outputs": [
        {
          "output_type": "stream",
          "name": "stdout",
          "text": [
            "lunes\n",
            "martes\n",
            "miercoles\n",
            "jueves\n",
            "viernes\n",
            "sabado\n",
            "domingo\n"
          ]
        }
      ]
    }
  ]
}